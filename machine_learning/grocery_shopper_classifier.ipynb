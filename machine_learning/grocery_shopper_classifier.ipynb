{
 "cells": [
  {
   "cell_type": "code",
   "execution_count": null,
   "metadata": {},
   "outputs": [
    {
     "name": "stdout",
     "output_type": "stream",
     "text": [
      "Accessing hive data\n",
      "data loading complete\n"
     ]
    }
   ],
   "source": [
    "#Importing Libraries\n",
    "import sys\n",
    "from pyhive import hive\n",
    "import pandas as pd\n",
    "from TCLIService.ttypes import TOperationState\n",
    "import numpy as np\n",
    "from sklearn.naive_bayes import MultinomialNB\n",
    "from sklearn import metrics\n",
    "\n",
    "#Check point\n",
    "print(\"Accessing hive data\")\n",
    "\n",
    "# Reading data from hive by class, which allows for balancing of skewed number of records\n",
    "print(\"Importing 300,000 random Instacart orders\")\n",
    "df_insta = pd.read_sql(\"SELECT * FROM orders_for_analysis WHERE dataset=\\\"instacart\\\" ORDER BY RAND() LIMIT 300000\", \n",
    "                  hive.connect('ec2-52-91-71-23.compute-1.amazonaws.com'))\n",
    "print(\"Importing 300,000 random Dunnhumby orders\")\n",
    "df_dh = pd.read_sql(\"SELECT * FROM orders_for_analysis WHERE dataset=\\\"dunnhumby\\\" ORDER BY RAND() LIMIT 300000\", \n",
    "                  hive.connect('ec2-52-91-71-23.compute-1.amazonaws.com'))\n",
    "# Check point\n",
    "print(\"Data loading complete\")\n",
    "\n",
    "# Converting all values to numeric\n",
    "print(\"Converting all values to numeric and concatenating into 1 Numpy array\")\n",
    "for i in range(1,109):\n",
    "    df_insta.iloc[:,i] = pd.to_numeric(df_insta.iloc[:, i], errors='coerce').fillna(0)\n",
    "for i in range(1,109):\n",
    "    df_dh.iloc[:,i] = pd.to_numeric(df_dh.iloc[:, i], errors='coerce').fillna(0)\n",
    "\n",
    "# Converting to numpy array\n",
    "data_numpy_insta = np.asarray(df_insta)\n",
    "data_numpy_dh = np.asarray(df_dh)\n",
    "\n",
    "data_numpy = np.concatenate((data_numpy_insta, data_numpy_dh), axis=0)\n",
    "\n",
    "#Shuffling data and splitting into test and train\n",
    "X, Y = data_numpy[:,1:109], data_numpy[:,109]\n",
    "print(\"Shuffling data\")\n",
    "shuffle = np.random.permutation(np.arange(len(data_numpy)))\n",
    "X, Y = X[shuffle], Y[shuffle]\n",
    "\n",
    "# Split into train and test.\n",
    "train_percentage = int(.8*len(data_numpy))\n",
    "train_data, train_labels = X[:train_percentage], Y[:train_percentage]\n",
    "test_data, test_labels = X[train_percentage:], Y[train_percentage:]\n",
    "\n",
    "#Check point\n",
    "print(\"Starting Machine Learning\")\n",
    "\n",
    "# Initalizing Naive Bayes Classifier\n",
    "clf_MNB = MultinomialNB()\n",
    "clf_MNB.fit(train_data, train_labels)\n",
    "\n",
    "print(\"Naive Bayes Classifier Model Fit. Predicting values...\")\n",
    "\n",
    "preds = clf_MNB.predict(test_data)\n",
    "\n",
    "print(\"Computing accuracy of shopper predictions...\")\n",
    "\n",
    "correct, total = 0, 0\n",
    "for pred, label in zip(preds, test_labels):\n",
    "    if pred == label: correct += 1\n",
    "    total += 1\n",
    "print('total: %3d  correct: %3d  accuracy: %3.2f%%' %(total, correct, 100.0*correct/total))"
   ]
  }
 ],
 "metadata": {
  "kernelspec": {
   "display_name": "Python 3",
   "language": "python",
   "name": "python3"
  },
  "language_info": {
   "codemirror_mode": {
    "name": "ipython",
    "version": 3
   },
   "file_extension": ".py",
   "mimetype": "text/x-python",
   "name": "python",
   "nbconvert_exporter": "python",
   "pygments_lexer": "ipython3",
   "version": "3.6.3"
  }
 },
 "nbformat": 4,
 "nbformat_minor": 2
}

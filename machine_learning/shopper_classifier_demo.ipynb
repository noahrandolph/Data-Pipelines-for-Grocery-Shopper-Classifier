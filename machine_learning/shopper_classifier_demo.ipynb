{
 "cells": [
  {
   "cell_type": "code",
   "execution_count": 2,
   "metadata": {},
   "outputs": [
    {
     "name": "stdout",
     "output_type": "stream",
     "text": [
      "total: 74418  correct: 63717  accuracy: 85.62%\n"
     ]
    }
   ],
   "source": [
    "#Importing Libraries\n",
    "import sys\n",
    "from pyhive import hive\n",
    "import pandas as pd\n",
    "from TCLIService.ttypes import TOperationState\n",
    "import numpy as np\n",
    "from sklearn.naive_bayes import MultinomialNB\n",
    "from sklearn.linear_model import LogisticRegression\n",
    "from sklearn import metrics\n",
    "import pickle\n",
    "\n",
    "## Loading test data back to python\n",
    "file_Name = 'test_data.pkl'\n",
    "fileObject = open(file_Name,'rb')\n",
    "test_data_loaded = pickle.load(fileObject) \n",
    "fileObject.close()\n",
    "\n",
    "## Loading test labels back to python\n",
    "file_Name = 'test_label.pkl'\n",
    "fileObject = open(file_Name,'rb')\n",
    "test_labels_loaded = pickle.load(fileObject) \n",
    "fileObject.close()\n",
    "\n",
    "## Loading model back to python for further analysis\n",
    "\n",
    "file_Name = 'finalmodel.sav'\n",
    "fileObject = open(file_Name,'rb')\n",
    "loaded_model = pickle.load(fileObject) \n",
    "\n",
    "## Making predictions using test data set\n",
    "preds = loaded_model.predict(test_data_loaded)\n",
    "fileObject.close()\n",
    "\n",
    "## Calculating the accuracy\n",
    "correct, total = 0, 0\n",
    "for pred, label in zip(preds, test_labels_loaded):\n",
    "    if pred == label: correct += 1\n",
    "    total += 1\n",
    "print('total: %3d  correct: %3d  accuracy: %3.2f%%' %(total, correct, 100.0*correct/total))\n",
    "\n"
   ]
  },
  {
   "cell_type": "code",
   "execution_count": 14,
   "metadata": {},
   "outputs": [
    {
     "name": "stdout",
     "output_type": "stream",
     "text": [
      "Actual class labels\n",
      "['instacart' 'dunnhumby' 'instacart' 'instacart' 'dunnhumby' 'dunnhumby'\n",
      " 'instacart' 'instacart' 'instacart']\n",
      "Predicted class labels\n",
      "['instacart' 'dunnhumby' 'instacart' 'instacart' 'dunnhumby' 'dunnhumby'\n",
      " 'instacart' 'instacart' 'instacart']\n"
     ]
    }
   ],
   "source": [
    "## Printing actual and predicted labels\n",
    "print(\"Actual class labels\")\n",
    "print(test_labels_loaded[1:10])\n",
    "print(\"Predicted class labels\")\n",
    "print(preds[1:10])\n"
   ]
  },
  {
   "cell_type": "code",
   "execution_count": 15,
   "metadata": {},
   "outputs": [
    {
     "name": "stdout",
     "output_type": "stream",
     "text": [
      "Number of instacart orders classified as dunnhumby\n",
      "5898\n",
      "Number of dunnhumby orders classified as instacart\n",
      "4488\n"
     ]
    }
   ],
   "source": [
    "print(\"Number of instacart orders classified as dunnhumby\")\n",
    "print(len(test_labels_loaded[np.where(test_labels_loaded[np.where(test_labels_loaded != preds)] == \"instacart\")]))\n",
    "\n",
    "print(\"Number of dunnhumby orders classified as instacart\")\n",
    "print(len(test_labels_loaded[np.where(test_labels_loaded[np.where(test_labels_loaded != preds)] == \"dunnhumby\")]))"
   ]
  },
  {
   "cell_type": "code",
   "execution_count": 3,
   "metadata": {
    "collapsed": true
   },
   "outputs": [],
   "source": [
    "## Selecting data points of interest\n",
    "start_point = 100\n",
    "stop_point = 200\n"
   ]
  },
  {
   "cell_type": "code",
   "execution_count": 4,
   "metadata": {},
   "outputs": [],
   "source": [
    "## Writing results to a csv file to tranfer results to Tableau\n",
    "classifier_results = pd.DataFrame(np.arange(start_point,stop_point), columns = [\"basket_id\"])\n",
    "classifier_results = classifier_results.assign(true_category = test_labels_loaded[start_point:stop_point])\n",
    "classifier_results = classifier_results.assign(predicted_category = preds[start_point:stop_point])\n",
    "classifier_results.to_csv('classifier_results.csv', header = False)"
   ]
  },
  {
   "cell_type": "code",
   "execution_count": null,
   "metadata": {
    "collapsed": true
   },
   "outputs": [],
   "source": []
  }
 ],
 "metadata": {
  "kernelspec": {
   "display_name": "Python 3",
   "language": "python",
   "name": "python3"
  },
  "language_info": {
   "codemirror_mode": {
    "name": "ipython",
    "version": 3
   },
   "file_extension": ".py",
   "mimetype": "text/x-python",
   "name": "python",
   "nbconvert_exporter": "python",
   "pygments_lexer": "ipython3",
   "version": "3.6.3"
  }
 },
 "nbformat": 4,
 "nbformat_minor": 2
}

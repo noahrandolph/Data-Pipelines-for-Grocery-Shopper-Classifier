{
 "cells": [
  {
   "cell_type": "code",
   "execution_count": 2,
   "metadata": {},
   "outputs": [
    {
     "name": "stdout",
     "output_type": "stream",
     "text": [
      "total: 74418  correct: 64126  accuracy: 86.17%\n",
      "['instacart' 'dunnhumby' 'instacart' 'dunnhumby' 'instacart' 'dunnhumby'\n",
      " 'dunnhumby' 'dunnhumby' 'dunnhumby' 'dunnhumby']\n",
      "['instacart' 'dunnhumby' 'instacart' 'dunnhumby' 'instacart' 'dunnhumby'\n",
      " 'dunnhumby' 'dunnhumby' 'dunnhumby' 'dunnhumby']\n"
     ]
    }
   ],
   "source": [
    "#Importing Libraries\n",
    "import sys\n",
    "from pyhive import hive\n",
    "import pandas as pd\n",
    "from TCLIService.ttypes import TOperationState\n",
    "import numpy as np\n",
    "from sklearn.naive_bayes import MultinomialNB\n",
    "from sklearn.linear_model import LogisticRegression\n",
    "from sklearn import metrics\n",
    "import pickle\n",
    "\n",
    "## Loading test data back to python\n",
    "file_Name = 'test_data.pkl'\n",
    "fileObject = open(file_Name,'rb')\n",
    "test_data_loaded = pickle.load(fileObject) \n",
    "fileObject.close()\n",
    "\n",
    "## Loading test labels back to python\n",
    "file_Name = 'test_label.pkl'\n",
    "fileObject = open(file_Name,'rb')\n",
    "test_labels_loaded = pickle.load(fileObject) \n",
    "fileObject.close()\n",
    "\n",
    "## Loading model back to python for further analysis\n",
    "\n",
    "file_Name = 'finalmodel.sav'\n",
    "fileObject = open(file_Name,'rb')\n",
    "loaded_model = pickle.load(fileObject) \n",
    "\n",
    "## Making predictions using test data set\n",
    "preds = loaded_model.predict(test_data_loaded)\n",
    "fileObject.close()\n",
    "\n",
    "## Calculating the accuracy\n",
    "correct, total = 0, 0\n",
    "for pred, label in zip(preds, test_labels_loaded):\n",
    "    if pred == label: correct += 1\n",
    "    total += 1\n",
    "print('total: %3d  correct: %3d  accuracy: %3.2f%%' %(total, correct, 100.0*correct/total))\n",
    "\n",
    "## Printing actual and predicted labels\n",
    "print(test_labels_loaded[:10])\n",
    "print(preds[:10])"
   ]
  }
 ],
 "metadata": {
  "kernelspec": {
   "display_name": "Python 3",
   "language": "python",
   "name": "python3"
  },
  "language_info": {
   "codemirror_mode": {
    "name": "ipython",
    "version": 3
   },
   "file_extension": ".py",
   "mimetype": "text/x-python",
   "name": "python",
   "nbconvert_exporter": "python",
   "pygments_lexer": "ipython3",
   "version": "3.6.3"
  }
 },
 "nbformat": 4,
 "nbformat_minor": 2
}

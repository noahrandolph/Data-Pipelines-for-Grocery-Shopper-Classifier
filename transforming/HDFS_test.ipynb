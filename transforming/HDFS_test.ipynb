{
 "cells": [
  {
   "cell_type": "code",
   "execution_count": 41,
   "metadata": {},
   "outputs": [
    {
     "name": "stdout",
     "output_type": "stream",
     "text": [
      "b'25671,2,GROCERY,National,FRZN ICE,ICE - CRUSHED/CU'\n"
     ]
    }
   ],
   "source": [
    "from hdfs import InsecureClient\n",
    "import pandas as pd\n",
    "\n",
    "client = InsecureClient('http://ec2-54-226-137-225.compute-1.amazonaws.com:50070', user='w205')\n",
    "  \n",
    "with client.read('/user/w205/grocery_shopper_classifier/dh_product/dh_product.csv') as reader:\n",
    "  content = reader.read()\n",
    "\n",
    "client.list('/user/w205/grocery_shopper_classifier/dh_product')\n",
    "\n",
    "print(content[:50])"
   ]
  }
 ],
 "metadata": {
  "kernelspec": {
   "display_name": "Python 3",
   "language": "python",
   "name": "python3"
  },
  "language_info": {
   "codemirror_mode": {
    "name": "ipython",
    "version": 3
   },
   "file_extension": ".py",
   "mimetype": "text/x-python",
   "name": "python",
   "nbconvert_exporter": "python",
   "pygments_lexer": "ipython3",
   "version": "3.6.3"
  }
 },
 "nbformat": 4,
 "nbformat_minor": 2
}
